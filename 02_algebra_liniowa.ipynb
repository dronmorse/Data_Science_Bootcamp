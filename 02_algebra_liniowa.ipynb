{
  "nbformat": 4,
  "nbformat_minor": 0,
  "metadata": {
    "colab": {
      "provenance": [],
      "authorship_tag": "ABX9TyNjJKnXUyl8HCwfhVC6mF+v",
      "include_colab_link": true
    },
    "kernelspec": {
      "name": "python3",
      "display_name": "Python 3"
    },
    "language_info": {
      "name": "python"
    }
  },
  "cells": [
    {
      "cell_type": "markdown",
      "metadata": {
        "id": "view-in-github",
        "colab_type": "text"
      },
      "source": [
        "<a href=\"https://colab.research.google.com/github/dronmorse/Data_Science_Bootcamp/blob/main/02_algebra_liniowa.ipynb\" target=\"_parent\"><img src=\"https://colab.research.google.com/assets/colab-badge.svg\" alt=\"Open In Colab\"/></a>"
      ]
    },
    {
      "cell_type": "code",
      "execution_count": 2,
      "metadata": {
        "id": "38-t5MOFt99n"
      },
      "outputs": [],
      "source": [
        "import numpy as np"
      ]
    },
    {
      "cell_type": "markdown",
      "source": [
        "### Norma wektora, długość wektora w R^2\n",
        "\n"
      ],
      "metadata": {
        "id": "PMh4qHj6iLP8"
      }
    },
    {
      "cell_type": "code",
      "source": [
        "v1 = np.array([1, 4])\n",
        "v1"
      ],
      "metadata": {
        "id": "K1rArM9zuBtg",
        "colab": {
          "base_uri": "https://localhost:8080/"
        },
        "outputId": "91921f5b-b072-4c3e-a473-b2ca57aa0437"
      },
      "execution_count": 3,
      "outputs": [
        {
          "output_type": "execute_result",
          "data": {
            "text/plain": [
              "array([1, 4])"
            ]
          },
          "metadata": {},
          "execution_count": 3
        }
      ]
    },
    {
      "cell_type": "code",
      "source": [
        "np.linalg.norm(v1)"
      ],
      "metadata": {
        "colab": {
          "base_uri": "https://localhost:8080/"
        },
        "id": "42BUhV_zh060",
        "outputId": "edac6441-8401-43fd-d481-f777c60d816b"
      },
      "execution_count": 4,
      "outputs": [
        {
          "output_type": "execute_result",
          "data": {
            "text/plain": [
              "4.123105625617661"
            ]
          },
          "metadata": {},
          "execution_count": 4
        }
      ]
    },
    {
      "cell_type": "markdown",
      "source": [
        "### Norma euklidesowa w R^n"
      ],
      "metadata": {
        "id": "LqDR4syki32K"
      }
    },
    {
      "cell_type": "code",
      "source": [
        "v2 = np.array([-10, 10, 13])"
      ],
      "metadata": {
        "id": "x5s57iU6h2o5"
      },
      "execution_count": 5,
      "outputs": []
    },
    {
      "cell_type": "code",
      "source": [
        "np.linalg.norm(v2)"
      ],
      "metadata": {
        "colab": {
          "base_uri": "https://localhost:8080/"
        },
        "id": "bem17Y2fi-AG",
        "outputId": "50e3de39-ff95-498c-99e5-22eb35700863"
      },
      "execution_count": 7,
      "outputs": [
        {
          "output_type": "execute_result",
          "data": {
            "text/plain": [
              "19.209372712298546"
            ]
          },
          "metadata": {},
          "execution_count": 7
        }
      ]
    },
    {
      "cell_type": "markdown",
      "source": [
        "### Odległość dwóch punktów na płaszczyźnie"
      ],
      "metadata": {
        "id": "2bLoWPsIjKRG"
      }
    },
    {
      "cell_type": "markdown",
      "source": [
        "### Odległość dwóch punktów w przestrzeni R^n"
      ],
      "metadata": {
        "id": "OzJm2xjpjSRj"
      }
    },
    {
      "cell_type": "code",
      "source": [
        "  p = np.array([3, 0])"
      ],
      "metadata": {
        "id": "n6O9o_9Ki8kX"
      },
      "execution_count": 8,
      "outputs": []
    },
    {
      "cell_type": "code",
      "source": [
        "q = np.array([0, 4])"
      ],
      "metadata": {
        "id": "nv8NwsM4jrRQ"
      },
      "execution_count": 9,
      "outputs": []
    },
    {
      "cell_type": "code",
      "source": [
        "np.linalg.norm(p - q)"
      ],
      "metadata": {
        "colab": {
          "base_uri": "https://localhost:8080/"
        },
        "id": "UMgI3xYljtNb",
        "outputId": "aff17449-4aad-4bf1-eb1f-2229807a1bb4"
      },
      "execution_count": 11,
      "outputs": [
        {
          "output_type": "execute_result",
          "data": {
            "text/plain": [
              "5.0"
            ]
          },
          "metadata": {},
          "execution_count": 11
        }
      ]
    },
    {
      "cell_type": "code",
      "source": [
        "  p = np.array([3, 0, 1])"
      ],
      "metadata": {
        "id": "2JJnjKZujwye"
      },
      "execution_count": 14,
      "outputs": []
    },
    {
      "cell_type": "code",
      "source": [
        "q = np.array([0, 4, 2])"
      ],
      "metadata": {
        "id": "_0RF4lnSkFlg"
      },
      "execution_count": 13,
      "outputs": []
    },
    {
      "cell_type": "code",
      "source": [
        "np.linalg.norm(p - q)"
      ],
      "metadata": {
        "colab": {
          "base_uri": "https://localhost:8080/"
        },
        "id": "iayuVXorkHB-",
        "outputId": "968f91a4-f9e7-467e-e9c8-1d0204a7c85a"
      },
      "execution_count": 15,
      "outputs": [
        {
          "output_type": "execute_result",
          "data": {
            "text/plain": [
              "5.0990195135927845"
            ]
          },
          "metadata": {},
          "execution_count": 15
        }
      ]
    },
    {
      "cell_type": "markdown",
      "source": [
        "### Mnożenie macierzy"
      ],
      "metadata": {
        "id": "-iGCJeE4kLW5"
      }
    },
    {
      "cell_type": "code",
      "source": [
        " X = np.array([[5, 3],\n",
        "               [3, 9]])\n",
        " Y = np.array([[1],\n",
        "               [-1]])\n",
        " print(X)\n",
        " print(Y)"
      ],
      "metadata": {
        "colab": {
          "base_uri": "https://localhost:8080/"
        },
        "id": "2K7bXcDdkIvg",
        "outputId": "db1e3143-db8b-459e-9f81-386b671aaa68"
      },
      "execution_count": 20,
      "outputs": [
        {
          "output_type": "stream",
          "name": "stdout",
          "text": [
            "[[5 3]\n",
            " [3 9]]\n",
            "[[ 1]\n",
            " [-1]]\n"
          ]
        }
      ]
    },
    {
      "cell_type": "code",
      "source": [
        "Z = np.dot(X, Y)"
      ],
      "metadata": {
        "id": "wqogh2mil5cA"
      },
      "execution_count": 21,
      "outputs": []
    },
    {
      "cell_type": "code",
      "source": [
        "print(Z)"
      ],
      "metadata": {
        "colab": {
          "base_uri": "https://localhost:8080/"
        },
        "id": "3BNA0PfUmoxq",
        "outputId": "67e04d9c-2845-421a-ea13-ef5114073362"
      },
      "execution_count": 22,
      "outputs": [
        {
          "output_type": "stream",
          "name": "stdout",
          "text": [
            "[[ 2]\n",
            " [-6]]\n"
          ]
        }
      ]
    },
    {
      "cell_type": "code",
      "source": [
        "Z.shape"
      ],
      "metadata": {
        "colab": {
          "base_uri": "https://localhost:8080/"
        },
        "id": "ItglcVg2mpvw",
        "outputId": "ed7b18d3-ddda-48c8-bc52-aa917cb76fff"
      },
      "execution_count": 24,
      "outputs": [
        {
          "output_type": "execute_result",
          "data": {
            "text/plain": [
              "(2, 1)"
            ]
          },
          "metadata": {},
          "execution_count": 24
        }
      ]
    },
    {
      "cell_type": "code",
      "source": [
        "X = np.array([[2, -1, 3],\n",
        "              [3, 1, 0]])\n",
        "Y = np.array([[2, 1, -1],\n",
        "              [0, -1, 2],\n",
        "              [3, 2, 0]])"
      ],
      "metadata": {
        "id": "w1DIzeBzmtLv"
      },
      "execution_count": 27,
      "outputs": []
    },
    {
      "cell_type": "code",
      "source": [
        "Z = np.dot(X, Y)"
      ],
      "metadata": {
        "id": "vzpfD-X4oYJg"
      },
      "execution_count": 28,
      "outputs": []
    },
    {
      "cell_type": "code",
      "source": [
        "print(Z)"
      ],
      "metadata": {
        "colab": {
          "base_uri": "https://localhost:8080/"
        },
        "id": "FsPPy6s8opPn",
        "outputId": "fdb82e51-0c89-4a49-85bc-ba3076703a63"
      },
      "execution_count": 29,
      "outputs": [
        {
          "output_type": "stream",
          "name": "stdout",
          "text": [
            "[[13  9 -4]\n",
            " [ 6  2 -1]]\n"
          ]
        }
      ]
    },
    {
      "cell_type": "markdown",
      "source": [
        "### Wyznacznik macierzy"
      ],
      "metadata": {
        "id": "n5S3bEUtsrKi"
      }
    },
    {
      "cell_type": "code",
      "source": [
        " A = np. array([[2, 4],\n",
        "                [-1, 3]])"
      ],
      "metadata": {
        "id": "np-K5ZQYoqg4"
      },
      "execution_count": 32,
      "outputs": []
    },
    {
      "cell_type": "code",
      "source": [
        "round(np.linalg.det(A))"
      ],
      "metadata": {
        "colab": {
          "base_uri": "https://localhost:8080/"
        },
        "id": "lziq-Nb_tvv9",
        "outputId": "1d89dea9-3f34-4f37-fb24-3db009b1989a"
      },
      "execution_count": 34,
      "outputs": [
        {
          "output_type": "execute_result",
          "data": {
            "text/plain": [
              "10"
            ]
          },
          "metadata": {},
          "execution_count": 34
        }
      ]
    },
    {
      "cell_type": "markdown",
      "source": [
        "### Ślad macierzy"
      ],
      "metadata": {
        "id": "J3G-vAH_uCZC"
      }
    },
    {
      "cell_type": "code",
      "source": [
        " A = np.array([[2, 4, 3],\n",
        "                [-1, 3, 2],\n",
        "                [5, 4, 9]])"
      ],
      "metadata": {
        "id": "gDeBah9Nt0id"
      },
      "execution_count": 42,
      "outputs": []
    },
    {
      "cell_type": "code",
      "source": [
        "np.trace(A)"
      ],
      "metadata": {
        "colab": {
          "base_uri": "https://localhost:8080/"
        },
        "id": "JxkpzmXFuKfb",
        "outputId": "dfe36266-54b5-4e8f-904b-c04009a88d38"
      },
      "execution_count": 41,
      "outputs": [
        {
          "output_type": "execute_result",
          "data": {
            "text/plain": [
              "14"
            ]
          },
          "metadata": {},
          "execution_count": 41
        }
      ]
    },
    {
      "cell_type": "markdown",
      "source": [
        "### Macierz jednostkowa"
      ],
      "metadata": {
        "id": "0mauTC75uUaV"
      }
    },
    {
      "cell_type": "code",
      "source": [
        "I = np.array([[1, 0, 0],\n",
        "              [0, 1, 0],\n",
        "              [0, 0, 1]])"
      ],
      "metadata": {
        "id": "TqpSrBSUuMPG"
      },
      "execution_count": 43,
      "outputs": []
    },
    {
      "cell_type": "code",
      "source": [
        "i = np.eye(3, dtype='int')"
      ],
      "metadata": {
        "id": "fWXXeRAYucck"
      },
      "execution_count": 45,
      "outputs": []
    },
    {
      "cell_type": "code",
      "source": [
        "print(I)\n",
        "print(i)"
      ],
      "metadata": {
        "colab": {
          "base_uri": "https://localhost:8080/"
        },
        "id": "OD5coZvruf57",
        "outputId": "e65cd1ac-6671-4599-b30d-3db8a8b53c07"
      },
      "execution_count": 47,
      "outputs": [
        {
          "output_type": "stream",
          "name": "stdout",
          "text": [
            "[[1 0 0]\n",
            " [0 1 0]\n",
            " [0 0 1]]\n",
            "[[1 0 0]\n",
            " [0 1 0]\n",
            " [0 0 1]]\n"
          ]
        }
      ]
    },
    {
      "cell_type": "markdown",
      "source": [
        "### Macierz odwrotna\n",
        "AB = BA = I"
      ],
      "metadata": {
        "id": "frG4qpZOukgo"
      }
    },
    {
      "cell_type": "code",
      "source": [
        "A = np.array([[2, 4],\n",
        "              [-1, 3]])"
      ],
      "metadata": {
        "id": "OJ45YBmJuh0i"
      },
      "execution_count": 48,
      "outputs": []
    },
    {
      "cell_type": "code",
      "source": [
        "B = np.linalg.inv(A)\n",
        "B"
      ],
      "metadata": {
        "colab": {
          "base_uri": "https://localhost:8080/"
        },
        "id": "L5UCWy_KuzJQ",
        "outputId": "909d544d-79c5-46ae-dec1-6d24b07bcf97"
      },
      "execution_count": 50,
      "outputs": [
        {
          "output_type": "execute_result",
          "data": {
            "text/plain": [
              "array([[ 0.3, -0.4],\n",
              "       [ 0.1,  0.2]])"
            ]
          },
          "metadata": {},
          "execution_count": 50
        }
      ]
    },
    {
      "cell_type": "code",
      "source": [
        "np.set_printoptions(precision=4, suppress=True)\n",
        "\n",
        "np.dot(A, B)\n",
        "np.dot(B, A)"
      ],
      "metadata": {
        "colab": {
          "base_uri": "https://localhost:8080/"
        },
        "id": "fGhDI2XdvCbs",
        "outputId": "9708765d-7f82-4d5e-fc6e-15c965556eda"
      },
      "execution_count": 55,
      "outputs": [
        {
          "output_type": "execute_result",
          "data": {
            "text/plain": [
              "array([[ 1., -0.],\n",
              "       [ 0.,  1.]])"
            ]
          },
          "metadata": {},
          "execution_count": 55
        }
      ]
    },
    {
      "cell_type": "markdown",
      "source": [
        "### Macierz transponowana\n",
        "\n",
        "wiersz = kolumna, kolumna = wiersz"
      ],
      "metadata": {
        "id": "WVgEhRPhvZ7k"
      }
    },
    {
      "cell_type": "code",
      "source": [
        "np.transpose(A)"
      ],
      "metadata": {
        "colab": {
          "base_uri": "https://localhost:8080/"
        },
        "id": "jBLxJPUlvHAy",
        "outputId": "659b372d-a81f-4113-a929-7b70b32ee3aa"
      },
      "execution_count": 56,
      "outputs": [
        {
          "output_type": "execute_result",
          "data": {
            "text/plain": [
              "array([[ 2, -1],\n",
              "       [ 4,  3]])"
            ]
          },
          "metadata": {},
          "execution_count": 56
        }
      ]
    },
    {
      "cell_type": "code",
      "source": [
        "A.T"
      ],
      "metadata": {
        "colab": {
          "base_uri": "https://localhost:8080/"
        },
        "id": "CmyfnQh3wDGp",
        "outputId": "7b0b69e2-7e2f-4644-aea7-ce9ed88055d5"
      },
      "execution_count": 57,
      "outputs": [
        {
          "output_type": "execute_result",
          "data": {
            "text/plain": [
              "array([[ 2, -1],\n",
              "       [ 4,  3]])"
            ]
          },
          "metadata": {},
          "execution_count": 57
        }
      ]
    },
    {
      "cell_type": "code",
      "source": [],
      "metadata": {
        "id": "P36G7FknwFg6"
      },
      "execution_count": null,
      "outputs": []
    }
  ]
}