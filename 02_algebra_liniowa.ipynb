{
  "nbformat": 4,
  "nbformat_minor": 0,
  "metadata": {
    "colab": {
      "provenance": [],
      "authorship_tag": "ABX9TyNYYH6wEVl364xXTiTaYX/T",
      "include_colab_link": true
    },
    "kernelspec": {
      "name": "python3",
      "display_name": "Python 3"
    },
    "language_info": {
      "name": "python"
    }
  },
  "cells": [
    {
      "cell_type": "markdown",
      "metadata": {
        "id": "view-in-github",
        "colab_type": "text"
      },
      "source": [
        "<a href=\"https://colab.research.google.com/github/dronmorse/Data_Science_Bootcamp/blob/main/02_algebra_liniowa.ipynb\" target=\"_parent\"><img src=\"https://colab.research.google.com/assets/colab-badge.svg\" alt=\"Open In Colab\"/></a>"
      ]
    },
    {
      "cell_type": "code",
      "execution_count": 2,
      "metadata": {
        "id": "38-t5MOFt99n"
      },
      "outputs": [],
      "source": [
        "import numpy as np"
      ]
    },
    {
      "cell_type": "markdown",
      "source": [
        "### Norma wektora, długość wektora w R^2\n",
        "\n"
      ],
      "metadata": {
        "id": "PMh4qHj6iLP8"
      }
    },
    {
      "cell_type": "code",
      "source": [
        "v1 = np.array([1, 4])\n",
        "v1"
      ],
      "metadata": {
        "id": "K1rArM9zuBtg",
        "colab": {
          "base_uri": "https://localhost:8080/"
        },
        "outputId": "52a58fac-3e15-4665-984c-c8bf46618115"
      },
      "execution_count": 3,
      "outputs": [
        {
          "output_type": "execute_result",
          "data": {
            "text/plain": [
              "array([1, 4])"
            ]
          },
          "metadata": {},
          "execution_count": 3
        }
      ]
    },
    {
      "cell_type": "code",
      "source": [
        "np.linalg.norm(v1)"
      ],
      "metadata": {
        "colab": {
          "base_uri": "https://localhost:8080/"
        },
        "id": "42BUhV_zh060",
        "outputId": "e8a6e03c-ed77-4c66-b001-f267dbdddf3c"
      },
      "execution_count": 4,
      "outputs": [
        {
          "output_type": "execute_result",
          "data": {
            "text/plain": [
              "4.123105625617661"
            ]
          },
          "metadata": {},
          "execution_count": 4
        }
      ]
    },
    {
      "cell_type": "markdown",
      "source": [
        "### Norma euklidesowa w R^n"
      ],
      "metadata": {
        "id": "LqDR4syki32K"
      }
    },
    {
      "cell_type": "code",
      "source": [
        "v2 = np.array([-10, 10, 13])"
      ],
      "metadata": {
        "id": "x5s57iU6h2o5"
      },
      "execution_count": 5,
      "outputs": []
    },
    {
      "cell_type": "code",
      "source": [
        "np.linalg.norm(v2)"
      ],
      "metadata": {
        "colab": {
          "base_uri": "https://localhost:8080/"
        },
        "id": "bem17Y2fi-AG",
        "outputId": "4702c1e0-4d67-48a0-ce2d-8fd0bb749708"
      },
      "execution_count": 6,
      "outputs": [
        {
          "output_type": "execute_result",
          "data": {
            "text/plain": [
              "19.209372712298546"
            ]
          },
          "metadata": {},
          "execution_count": 6
        }
      ]
    },
    {
      "cell_type": "markdown",
      "source": [
        "### Odległość dwóch punktów na płaszczyźnie"
      ],
      "metadata": {
        "id": "2bLoWPsIjKRG"
      }
    },
    {
      "cell_type": "markdown",
      "source": [
        "### Odległość dwóch punktów w przestrzeni R^n"
      ],
      "metadata": {
        "id": "OzJm2xjpjSRj"
      }
    },
    {
      "cell_type": "code",
      "source": [
        "  p = np.array([3, 0])"
      ],
      "metadata": {
        "id": "n6O9o_9Ki8kX"
      },
      "execution_count": 7,
      "outputs": []
    },
    {
      "cell_type": "code",
      "source": [
        "q = np.array([0, 4])"
      ],
      "metadata": {
        "id": "nv8NwsM4jrRQ"
      },
      "execution_count": 8,
      "outputs": []
    },
    {
      "cell_type": "code",
      "source": [
        "np.linalg.norm(p - q)"
      ],
      "metadata": {
        "colab": {
          "base_uri": "https://localhost:8080/"
        },
        "id": "UMgI3xYljtNb",
        "outputId": "09f2cbec-04d3-4be3-b8d8-f1367fc309e1"
      },
      "execution_count": 9,
      "outputs": [
        {
          "output_type": "execute_result",
          "data": {
            "text/plain": [
              "5.0"
            ]
          },
          "metadata": {},
          "execution_count": 9
        }
      ]
    },
    {
      "cell_type": "code",
      "source": [
        "  p = np.array([3, 0, 1])"
      ],
      "metadata": {
        "id": "2JJnjKZujwye"
      },
      "execution_count": 10,
      "outputs": []
    },
    {
      "cell_type": "code",
      "source": [
        "q = np.array([0, 4, 2])"
      ],
      "metadata": {
        "id": "_0RF4lnSkFlg"
      },
      "execution_count": 11,
      "outputs": []
    },
    {
      "cell_type": "code",
      "source": [
        "np.linalg.norm(p - q)"
      ],
      "metadata": {
        "colab": {
          "base_uri": "https://localhost:8080/"
        },
        "id": "iayuVXorkHB-",
        "outputId": "8d78a460-d016-46da-fcd6-d6b8db3e6cf7"
      },
      "execution_count": 12,
      "outputs": [
        {
          "output_type": "execute_result",
          "data": {
            "text/plain": [
              "5.0990195135927845"
            ]
          },
          "metadata": {},
          "execution_count": 12
        }
      ]
    },
    {
      "cell_type": "markdown",
      "source": [
        "### Mnożenie macierzy"
      ],
      "metadata": {
        "id": "-iGCJeE4kLW5"
      }
    },
    {
      "cell_type": "code",
      "source": [
        " X = np.array([[5, 3],\n",
        "               [3, 9]])\n",
        " Y = np.array([[1],\n",
        "               [-1]])\n",
        " print(X)\n",
        " print(Y)"
      ],
      "metadata": {
        "colab": {
          "base_uri": "https://localhost:8080/"
        },
        "id": "2K7bXcDdkIvg",
        "outputId": "a85d7e6e-23a6-4294-8de4-b550d2224b20"
      },
      "execution_count": 13,
      "outputs": [
        {
          "output_type": "stream",
          "name": "stdout",
          "text": [
            "[[5 3]\n",
            " [3 9]]\n",
            "[[ 1]\n",
            " [-1]]\n"
          ]
        }
      ]
    },
    {
      "cell_type": "code",
      "source": [
        "Z = np.dot(X, Y)"
      ],
      "metadata": {
        "id": "wqogh2mil5cA"
      },
      "execution_count": 14,
      "outputs": []
    },
    {
      "cell_type": "code",
      "source": [
        "print(Z)"
      ],
      "metadata": {
        "colab": {
          "base_uri": "https://localhost:8080/"
        },
        "id": "3BNA0PfUmoxq",
        "outputId": "98046b83-4b03-4738-e1d2-0273493f1b05"
      },
      "execution_count": 15,
      "outputs": [
        {
          "output_type": "stream",
          "name": "stdout",
          "text": [
            "[[ 2]\n",
            " [-6]]\n"
          ]
        }
      ]
    },
    {
      "cell_type": "code",
      "source": [
        "Z.shape"
      ],
      "metadata": {
        "colab": {
          "base_uri": "https://localhost:8080/"
        },
        "id": "ItglcVg2mpvw",
        "outputId": "2625cf36-af57-4814-d7c3-f537d7071d46"
      },
      "execution_count": 16,
      "outputs": [
        {
          "output_type": "execute_result",
          "data": {
            "text/plain": [
              "(2, 1)"
            ]
          },
          "metadata": {},
          "execution_count": 16
        }
      ]
    },
    {
      "cell_type": "code",
      "source": [
        "X = np.array([[2, -1, 3],\n",
        "              [3, 1, 0]])\n",
        "Y = np.array([[2, 1, -1],\n",
        "              [0, -1, 2],\n",
        "              [3, 2, 0]])"
      ],
      "metadata": {
        "id": "w1DIzeBzmtLv"
      },
      "execution_count": 17,
      "outputs": []
    },
    {
      "cell_type": "code",
      "source": [
        "Z = np.dot(X, Y)"
      ],
      "metadata": {
        "id": "vzpfD-X4oYJg"
      },
      "execution_count": 18,
      "outputs": []
    },
    {
      "cell_type": "code",
      "source": [
        "print(Z)"
      ],
      "metadata": {
        "colab": {
          "base_uri": "https://localhost:8080/"
        },
        "id": "FsPPy6s8opPn",
        "outputId": "10364fbe-4d82-4dca-f773-7089ad41f00e"
      },
      "execution_count": 19,
      "outputs": [
        {
          "output_type": "stream",
          "name": "stdout",
          "text": [
            "[[13  9 -4]\n",
            " [ 6  2 -1]]\n"
          ]
        }
      ]
    },
    {
      "cell_type": "markdown",
      "source": [
        "### Wyznacznik macierzy"
      ],
      "metadata": {
        "id": "n5S3bEUtsrKi"
      }
    },
    {
      "cell_type": "code",
      "source": [
        " A = np. array([[2, 4],\n",
        "                [-1, 3]])"
      ],
      "metadata": {
        "id": "np-K5ZQYoqg4"
      },
      "execution_count": 20,
      "outputs": []
    },
    {
      "cell_type": "code",
      "source": [
        "round(np.linalg.det(A))"
      ],
      "metadata": {
        "colab": {
          "base_uri": "https://localhost:8080/"
        },
        "id": "lziq-Nb_tvv9",
        "outputId": "58646567-dbf6-4fca-9bb7-1f158f9d302c"
      },
      "execution_count": 21,
      "outputs": [
        {
          "output_type": "execute_result",
          "data": {
            "text/plain": [
              "10"
            ]
          },
          "metadata": {},
          "execution_count": 21
        }
      ]
    },
    {
      "cell_type": "markdown",
      "source": [
        "### Ślad macierzy"
      ],
      "metadata": {
        "id": "J3G-vAH_uCZC"
      }
    },
    {
      "cell_type": "code",
      "source": [
        " A = np.array([[2, 4, 3],\n",
        "                [-1, 3, 2],\n",
        "                [5, 4, 9]])"
      ],
      "metadata": {
        "id": "gDeBah9Nt0id"
      },
      "execution_count": 22,
      "outputs": []
    },
    {
      "cell_type": "code",
      "source": [
        "np.trace(A)"
      ],
      "metadata": {
        "colab": {
          "base_uri": "https://localhost:8080/"
        },
        "id": "JxkpzmXFuKfb",
        "outputId": "c9c08888-a1f3-48a1-a72c-c0d3d9d788d1"
      },
      "execution_count": 23,
      "outputs": [
        {
          "output_type": "execute_result",
          "data": {
            "text/plain": [
              "14"
            ]
          },
          "metadata": {},
          "execution_count": 23
        }
      ]
    },
    {
      "cell_type": "markdown",
      "source": [
        "### Macierz jednostkowa"
      ],
      "metadata": {
        "id": "0mauTC75uUaV"
      }
    },
    {
      "cell_type": "code",
      "source": [
        "I = np.array([[1, 0, 0],\n",
        "              [0, 1, 0],\n",
        "              [0, 0, 1]])"
      ],
      "metadata": {
        "id": "TqpSrBSUuMPG"
      },
      "execution_count": 24,
      "outputs": []
    },
    {
      "cell_type": "code",
      "source": [
        "i = np.eye(3, dtype='int')"
      ],
      "metadata": {
        "id": "fWXXeRAYucck"
      },
      "execution_count": 25,
      "outputs": []
    },
    {
      "cell_type": "code",
      "source": [
        "print(I)\n",
        "print(i)"
      ],
      "metadata": {
        "colab": {
          "base_uri": "https://localhost:8080/"
        },
        "id": "OD5coZvruf57",
        "outputId": "eef6f208-4a42-4c01-edd2-5c638851e664"
      },
      "execution_count": 26,
      "outputs": [
        {
          "output_type": "stream",
          "name": "stdout",
          "text": [
            "[[1 0 0]\n",
            " [0 1 0]\n",
            " [0 0 1]]\n",
            "[[1 0 0]\n",
            " [0 1 0]\n",
            " [0 0 1]]\n"
          ]
        }
      ]
    },
    {
      "cell_type": "markdown",
      "source": [
        "### Macierz odwrotna\n",
        "AB = BA = I"
      ],
      "metadata": {
        "id": "frG4qpZOukgo"
      }
    },
    {
      "cell_type": "code",
      "source": [
        "A = np.array([[2, 4],\n",
        "              [-1, 3]])"
      ],
      "metadata": {
        "id": "OJ45YBmJuh0i"
      },
      "execution_count": 27,
      "outputs": []
    },
    {
      "cell_type": "code",
      "source": [
        "B = np.linalg.inv(A)\n",
        "B"
      ],
      "metadata": {
        "colab": {
          "base_uri": "https://localhost:8080/"
        },
        "id": "L5UCWy_KuzJQ",
        "outputId": "d31f7e72-1a8f-491d-d80e-38ac9c9c03fb"
      },
      "execution_count": 28,
      "outputs": [
        {
          "output_type": "execute_result",
          "data": {
            "text/plain": [
              "array([[ 0.3, -0.4],\n",
              "       [ 0.1,  0.2]])"
            ]
          },
          "metadata": {},
          "execution_count": 28
        }
      ]
    },
    {
      "cell_type": "code",
      "source": [
        "np.set_printoptions(precision=4, suppress=True)\n",
        "\n",
        "np.dot(A, B)\n",
        "np.dot(B, A)"
      ],
      "metadata": {
        "colab": {
          "base_uri": "https://localhost:8080/"
        },
        "id": "fGhDI2XdvCbs",
        "outputId": "c267e643-a7a3-4948-d1ca-4d50cd336ceb"
      },
      "execution_count": 29,
      "outputs": [
        {
          "output_type": "execute_result",
          "data": {
            "text/plain": [
              "array([[ 1., -0.],\n",
              "       [ 0.,  1.]])"
            ]
          },
          "metadata": {},
          "execution_count": 29
        }
      ]
    },
    {
      "cell_type": "markdown",
      "source": [
        "### Macierz transponowana\n",
        "\n",
        "wiersz = kolumna, kolumna = wiersz"
      ],
      "metadata": {
        "id": "WVgEhRPhvZ7k"
      }
    },
    {
      "cell_type": "code",
      "source": [
        "np.transpose(A)"
      ],
      "metadata": {
        "colab": {
          "base_uri": "https://localhost:8080/"
        },
        "id": "jBLxJPUlvHAy",
        "outputId": "1da95df6-fb19-4edd-a521-087c41dc1c20"
      },
      "execution_count": 30,
      "outputs": [
        {
          "output_type": "execute_result",
          "data": {
            "text/plain": [
              "array([[ 2, -1],\n",
              "       [ 4,  3]])"
            ]
          },
          "metadata": {},
          "execution_count": 30
        }
      ]
    },
    {
      "cell_type": "code",
      "source": [
        "A.T"
      ],
      "metadata": {
        "id": "CmyfnQh3wDGp",
        "outputId": "fbee33e1-c33a-4efa-e8e7-fe4c36717c26",
        "colab": {
          "base_uri": "https://localhost:8080/"
        }
      },
      "execution_count": 31,
      "outputs": [
        {
          "output_type": "execute_result",
          "data": {
            "text/plain": [
              "array([[ 2, -1],\n",
              "       [ 4,  3]])"
            ]
          },
          "metadata": {},
          "execution_count": 31
        }
      ]
    },
    {
      "cell_type": "markdown",
      "source": [
        "### Rozwiązywanie układu równań\n",
        "### jeżeli macierz jest kwadratowa to AX = B -> A^-1*AX = A^-1B -> X = A^-1B"
      ],
      "metadata": {
        "id": "XgdsLjgIkRF_"
      }
    },
    {
      "cell_type": "code",
      "source": [
        " C = np.array([[2, 4],\n",
        "               [1, -1]])\n",
        " print(C)"
      ],
      "metadata": {
        "id": "P36G7FknwFg6",
        "colab": {
          "base_uri": "https://localhost:8080/"
        },
        "outputId": "8bd5b31c-2312-47d1-e462-b6382d59c2cd"
      },
      "execution_count": 51,
      "outputs": [
        {
          "output_type": "stream",
          "name": "stdout",
          "text": [
            "[[ 2  4]\n",
            " [ 1 -1]]\n"
          ]
        }
      ]
    },
    {
      "cell_type": "code",
      "source": [
        "W = np.array([[10],\n",
        "             [-1]])\n",
        "print(W)"
      ],
      "metadata": {
        "colab": {
          "base_uri": "https://localhost:8080/"
        },
        "id": "wDwCKP93mCsg",
        "outputId": "b17d4ace-4a9c-4f60-e0d3-3128761c92ed"
      },
      "execution_count": 54,
      "outputs": [
        {
          "output_type": "stream",
          "name": "stdout",
          "text": [
            "[[10]\n",
            " [-1]]\n"
          ]
        }
      ]
    },
    {
      "cell_type": "code",
      "source": [
        "C_inv = np.linalg.inv(C)\n",
        "X = np.dot(C_inv, W)\n",
        "X"
      ],
      "metadata": {
        "colab": {
          "base_uri": "https://localhost:8080/"
        },
        "id": "bTGw0lYSmbBB",
        "outputId": "d7212d63-5788-482e-8d43-b97f86bb5eb5"
      },
      "execution_count": 55,
      "outputs": [
        {
          "output_type": "execute_result",
          "data": {
            "text/plain": [
              "array([[1.],\n",
              "       [2.]])"
            ]
          },
          "metadata": {},
          "execution_count": 55
        }
      ]
    },
    {
      "cell_type": "code",
      "source": [],
      "metadata": {
        "id": "SQwZVcqdm-sl"
      },
      "execution_count": null,
      "outputs": []
    }
  ]
}